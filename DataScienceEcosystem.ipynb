{
 "cells": [
  {
   "cell_type": "markdown",
   "id": "c686387b",
   "metadata": {},
   "source": [
    "Data Science Tools and Ecosystem"
   ]
  },
  {
   "cell_type": "markdown",
   "id": "e59bf21d",
   "metadata": {},
   "source": [
    "In this notebook, Data Science Tools and Ecosystem are summarized "
   ]
  },
  {
   "cell_type": "markdown",
   "id": "29fe02e0",
   "metadata": {},
   "source": [
    "Some of the popular languages that data science uses are:\n",
    "    1. Python\n",
    "    2. R\n",
    "    3. Java"
   ]
  },
  {
   "cell_type": "markdown",
   "id": "999deed4",
   "metadata": {},
   "source": [
    "Some commonly used libraries in Data Science include:\n",
    "    1. Matplotlib: for data visualization\n",
    "    2. TensorFlow: for AI and machine learning\n",
    "    3. Keras: For deep learning and neural networks"
   ]
  },
  {
   "cell_type": "markdown",
   "id": "e8b5ad8c",
   "metadata": {},
   "source": [
    "|Data Science Tools|\n",
    "|------------------|\n",
    "|     Kubernetes   |\n",
    "|     Prometheus   |\n",
    "| Apache Superset  |"
   ]
  },
  {
   "cell_type": "markdown",
   "id": "b53b1315",
   "metadata": {},
   "source": [
    "# Below are a few examples of evaluating arithmetic expressions in Python"
   ]
  },
  {
   "cell_type": "code",
   "execution_count": 1,
   "id": "a1cd6670",
   "metadata": {},
   "outputs": [
    {
     "data": {
      "text/plain": [
       "17"
      ]
     },
     "execution_count": 1,
     "metadata": {},
     "output_type": "execute_result"
    }
   ],
   "source": [
    "#This is a simple arithmatic expression to multiply and add integers\n",
    "(3*4)+5"
   ]
  },
  {
   "cell_type": "code",
   "execution_count": 2,
   "id": "a0689ef8",
   "metadata": {},
   "outputs": [
    {
     "data": {
      "text/plain": [
       "3.3333333333333335"
      ]
     },
     "execution_count": 2,
     "metadata": {},
     "output_type": "execute_result"
    }
   ],
   "source": [
    "#This will convert 200 minutes into hours by dividing by 60\n",
    "200 / 60"
   ]
  },
  {
   "cell_type": "markdown",
   "id": "361ecc96",
   "metadata": {},
   "source": [
    "Objectives:\n",
    "- List popular data science languages\n",
    "- List commonly used data science libraries\n",
    "- List commonly used data science tools\n"
   ]
  },
  {
   "cell_type": "markdown",
   "id": "0de2ec99",
   "metadata": {},
   "source": [
    "Author: Wyatt"
   ]
  }
 ],
 "metadata": {
  "kernelspec": {
   "display_name": "Python 3 (ipykernel)",
   "language": "python",
   "name": "python3"
  },
  "language_info": {
   "codemirror_mode": {
    "name": "ipython",
    "version": 3
   },
   "file_extension": ".py",
   "mimetype": "text/x-python",
   "name": "python",
   "nbconvert_exporter": "python",
   "pygments_lexer": "ipython3",
   "version": "3.10.9"
  }
 },
 "nbformat": 4,
 "nbformat_minor": 5
}
